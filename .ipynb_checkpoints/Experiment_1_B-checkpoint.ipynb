{
 "cells": [
  {
   "cell_type": "markdown",
   "metadata": {},
   "source": [
    "# Experiment_1_B\n",
    "# DataSet : Surgery complications"
   ]
  },
  {
   "cell_type": "code",
   "execution_count": 4,
   "metadata": {},
   "outputs": [],
   "source": [
    "import numpy as np\n",
    "import pandas as pd  \n",
    "from sklearn.metrics import accuracy_score\n",
    "from sklearn.metrics import confusion_matrix \n",
    "from sklearn.metrics import accuracy_score \n",
    "from sklearn.metrics import classification_report\n",
    "from matplotlib import pyplot as plt \n",
    "\n",
    "\n",
    "\n",
    "class Perceptron(object):\n",
    "\n",
    "    def __init__(self, no_of_inputs, threshold=100, learning_rate=0.01):\n",
    "        self.threshold = threshold\n",
    "        self.learning_rate = learning_rate\n",
    "        self.weights = np.zeros(no_of_inputs + 1)\n",
    "           \n",
    "    def predict(self, inputs):\n",
    "        summation = np.dot(inputs, self.weights[1:]) + self.weights[0]\n",
    "        if (summation > 0).any():\n",
    "          activation = 1\n",
    "        else:\n",
    "          activation = 0            \n",
    "        return activation\n",
    "\n",
    "    def train(self, training_inputs, labels):\n",
    "        for _ in range(self.threshold):\n",
    "            for inputs, label in zip(training_inputs, labels):\n",
    "                prediction = self.predict(inputs)\n",
    "                self.weights[1:] += self.learning_rate * (label - prediction) * inputs\n",
    "                self.weights[0] += self.learning_rate * (label - prediction)\n",
    "\n",
    "\n",
    "                \n",
    "\n",
    "data = pd.read_csv(\"horse1.csv\")  \n"
   ]
  },
  {
   "cell_type": "markdown",
   "metadata": {},
   "source": [
    "# DATA CLEANING"
   ]
  },
  {
   "cell_type": "code",
   "execution_count": 1,
   "metadata": {},
   "outputs": [],
   "source": [
    "# # import pandas as pd \n",
    "\n",
    "\n",
    "# # def f(row):\n",
    "# #     if row['Safety_Score'] < 50:\n",
    "# #         val = 0\n",
    "# #     else:\n",
    "# #         val = 1\n",
    "# #     return val\n",
    "\n",
    "# # data = pd.read_csv(\"train.csv\") \n",
    "# # # print(data.head())\n",
    "# # # data.drop('Accident_ID', axis=1, inplace=True)\n",
    "# # # data.drop('Severity', axis=1, inplace=True)\n",
    "# # # data.to_csv('train.csv') \n",
    "\n",
    "# # # data = data[['Days_Since_Inspection','Total_Safety_Complaints','Control_Metric','Turbulence_In_gforces','Cabin_Temperature','Accident_Type_Code','Max_Elevation','Violations','Adverse_Weather_Metric','Safety_Score']]\n",
    "# # # print(data.head())\n",
    "# # # data.to_csv('train.csv') \n",
    "# # data['Output'] = data.apply(f, axis=1)\n",
    "# # # data.to_csv('train.csv') \n",
    "\n",
    "\n",
    "# import pandas as pd\n",
    "# data = pd.read_csv(\"student-mat.csv\") \n",
    "\n",
    "# def a(row):\n",
    "# \tif(row['sex']=='F'):\n",
    "# \t\tval = 0\n",
    "# \telse:\n",
    "# \t\tval = 1\n",
    "# \treturn val\n",
    "\n",
    "# def b(row):\n",
    "# \tif(row['address']=='U'):\n",
    "# \t\tval = 0\n",
    "# \telse:\n",
    "# \t\tval = 1\n",
    "# \treturn val\n",
    "\n",
    "# def c(row):\n",
    "# \tif(row['school']=='G'):\n",
    "# \t\tval = 0\n",
    "# \telse:\n",
    "# \t\tval = 1\n",
    "# \treturn val\n",
    "# def d(row):\n",
    "# \tif(row['famsize']=='GT3'):\n",
    "# \t\tval = 0\n",
    "# \telse:\n",
    "# \t\tval = 1\n",
    "# \treturn val\n",
    "\n",
    "# def e(row):\n",
    "# \tif(row['Pstatus']=='A'):\n",
    "# \t\tval = 0\n",
    "# \telse: \n",
    "# \t\tval = 1\n",
    "# \treturn val\n",
    "\n",
    "# def f(row):\n",
    "# \tif(row['reason']=='course'):\n",
    "# \t\tval =0\n",
    "# \telif(row['reason']=='other'):\n",
    "# \t\tval =1\n",
    "# \telif(row['reason']=='home'):\n",
    "# \t\tval = 2\n",
    "# \telse:\n",
    "# \t\tval = 3\n",
    "# \treturn val\n",
    "# def h(row):\n",
    "# \tif(row['Mjob']=='teacher'):\n",
    "# \t\tval =0\n",
    "# \telif(row['Mjob']=='other'):\n",
    "# \t\tval =1\n",
    "# \telif(row['Mjob']=='services'):\n",
    "# \t\tval = 2\n",
    "# \telif(row['Mjob']=='health'):\n",
    "# \t\tval = 3\n",
    "# \telse:\n",
    "# \t\tval =4\n",
    "\n",
    "# \treturn val\n",
    "# def g(row):\n",
    "# \tif(row['Fjob']=='teacher'):\n",
    "# \t\tval =0\n",
    "# \telif(row['Fjob']=='other'):\n",
    "# \t\tval =1\n",
    "# \telif(row['Fjob']=='services'):\n",
    "# \t\tval = 2\n",
    "# \telif(row['Fjob']=='health'):\n",
    "# \t\tval = 3\n",
    "# \telse:\n",
    "# \t\tval =4\n",
    "# \treturn val\n",
    "# def i(row):\n",
    "# \tif(row['guardian']=='mother'):\n",
    "# \t\tval =0\n",
    "# \telse:\n",
    "# \t\tval =1\n",
    "# \treturn val\n",
    "# def j(row):\n",
    "# \tif(row['schoolsup']=='yes'):\n",
    "# \t\tval = 0\n",
    "# \telse:\n",
    "# \t\tval = 1\n",
    "# \treturn val\n",
    "\n",
    "# def k(row):\n",
    "# \tif(row['famsup']=='yes'):\n",
    "# \t\tval = 0\n",
    "# \telse:\n",
    "# \t\tval = 1\n",
    "# \treturn val\n",
    "# def l(row):\n",
    "# \tif(row['paid']=='yes'):\n",
    "# \t\tval = 0\n",
    "# \telse:\n",
    "# \t\tval = 1\n",
    "# \treturn val\n",
    "# def m(row):\n",
    "# \tif(row['activities']=='yes'):\n",
    "# \t\tval = 0\n",
    "# \telse:\n",
    "# \t\tval = 1\n",
    "# \treturn val\n",
    "# def n(row):\n",
    "# \tif(row['nursery']=='yes'):\n",
    "# \t\tval = 0\n",
    "# \telse:\n",
    "# \t\tval = 1\n",
    "# \treturn val\n",
    "# def o(row):\n",
    "# \tif(row['higher']=='yes'):\n",
    "# \t\tval = 0\n",
    "# \telse:\n",
    "# \t\tval = 1\n",
    "# \treturn val\n",
    "# def p(row):\n",
    "# \tif(row['internet']=='yes'):\n",
    "# \t\tval = 0\n",
    "# \telse:\n",
    "# \t\tval = 1\n",
    "# \treturn val\n",
    "# def q(row):\n",
    "# \tif(row['romantic']=='yes'):\n",
    "# \t\tval = 0\n",
    "# \telse:\n",
    "# \t\tval = 1\n",
    "# \treturn val\n",
    "\n",
    "\n",
    "# data['sex'] = data.apply(a, axis=1)\n",
    "# data['address'] = data.apply(b, axis=1)\n",
    "# data['school'] = data.apply(c, axis=1)\n",
    "# data['famsize'] = data.apply(d, axis=1)\n",
    "# data['Pstatus'] = data.apply(e, axis=1)\n",
    "# data['reason'] = data.apply(f, axis=1)\n",
    "# data['Mjob'] = data.apply(g, axis=1)\n",
    "# data['Fjob'] = data.apply(h, axis=1)\n",
    "# data['guardian'] = data.apply(i, axis=1)\n",
    "# data['schoolsup'] = data.apply(j, axis=1)\n",
    "# data['famsup'] = data.apply(k, axis=1)\n",
    "# data['paid'] = data.apply(l, axis=1)\n",
    "# data['activities'] = data.apply(m, axis=1)\n",
    "# data['nursery'] = data.apply(n, axis=1)\n",
    "# data['higher'] = data.apply(o, axis=1)\n",
    "# data['internet'] = data.apply(p, axis=1)\n",
    "# data['romantic'] = data.apply(q, axis=1)\n",
    "# data.to_csv('student-mat.csv') \n"
   ]
  },
  {
   "cell_type": "code",
   "execution_count": 11,
   "metadata": {},
   "outputs": [],
   "source": [
    "x = data.drop('cp_data',axis=1)\n",
    "y = data['cp_data']\n",
    "\n",
    "from sklearn.model_selection import train_test_split\n",
    "X_train, X_test, y_train, y_test = train_test_split(x, y, random_state=5)\n",
    "\n",
    "\n",
    "X_train = np.array(X_train)\n",
    "y_train = np.array(y_train)\n",
    "\n",
    "X_test = np.array(X_test)\n",
    "y_test = np.array(y_test)\n",
    "# perceptron = Perceptron(24)\n",
    "# perceptron.train(X_train, y_train)"
   ]
  },
  {
   "cell_type": "code",
   "execution_count": 7,
   "metadata": {},
   "outputs": [],
   "source": [
    "# print('The compliacation for the input 0 is ' + perceptron.predict(X_test[0])) \n",
    "epoch = []\n",
    "accuracy = []\n",
    "\n",
    "# for i in range(100,500,100):\n",
    "#     perceptron = Perceptron(20,i)\n",
    "#     perceptron.train(X_train, y_train)\n",
    "#     y_pred = []\n",
    "#     for j in range(len(X_test)):\n",
    "#         y_pred.append(perceptron.predict(X_test[j]))\n",
    "#     accuracy.append(accuracy_score(y_test, y_pred))\n",
    "#     epoch.append(i)\n",
    "\n",
    "perceptron = Perceptron(20,100)\n",
    "perceptron.train(X_train, y_train)\n",
    "    "
   ]
  },
  {
   "cell_type": "code",
   "execution_count": 12,
   "metadata": {},
   "outputs": [],
   "source": [
    "y_pred = []\n",
    "for i in range(len(X_test)):\n",
    "    y_pred.append(perceptron.predict(X_test[i]))\n",
    "# accuracy_score(y_test, y_pred)"
   ]
  },
  {
   "cell_type": "code",
   "execution_count": 13,
   "metadata": {},
   "outputs": [
    {
     "data": {
      "text/plain": [
       "array([[  0,  77],\n",
       "       [  0, 147]], dtype=int64)"
      ]
     },
     "execution_count": 13,
     "metadata": {},
     "output_type": "execute_result"
    }
   ],
   "source": [
    "confusion_matrix(y_test, y_pred) \n"
   ]
  },
  {
   "cell_type": "code",
   "execution_count": 15,
   "metadata": {},
   "outputs": [
    {
     "name": "stdout",
     "output_type": "stream",
     "text": [
      "Accuracy Score : 0.65625\n",
      "Report : \n",
      "              precision    recall  f1-score   support\n",
      "\n",
      "           0       0.00      0.00      0.00        77\n",
      "           1       0.66      1.00      0.79       147\n",
      "\n",
      "    accuracy                           0.66       224\n",
      "   macro avg       0.33      0.50      0.40       224\n",
      "weighted avg       0.43      0.66      0.52       224\n",
      "\n"
     ]
    }
   ],
   "source": [
    "print('Accuracy Score :',accuracy_score(y_test, y_pred))\n",
    "print('Report : ')\n",
    "print(classification_report(y_test, y_pred))"
   ]
  },
  {
   "cell_type": "code",
   "execution_count": 16,
   "metadata": {},
   "outputs": [
    {
     "data": {
      "image/png": "[encoded data removed]",
      "text/plain": [
       "<Figure size 432x288 with 1 Axes>"
      ]
     },
     "metadata": {
      "needs_background": "light"
     },
     "output_type": "display_data"
    }
   ],
   "source": [
    "plt.plot(epoch,accuracy) \n",
    "plt.show() \n"
   ]
  },
  {
   "cell_type": "markdown",
   "metadata": {},
   "source": [
    "# Conclusion\n"
   ]
  },
  {
   "cell_type": "markdown",
   "metadata": {},
   "source": [
    "The accuracy score is 70% which is accepted since the binary dataset need not be linearly seperable"
   ]
  }
 ],
 "metadata": {
  "kernelspec": {
   "display_name": "Python 3",
   "language": "python",
   "name": "python3"
  },
  "language_info": {
   "codemirror_mode": {
    "name": "ipython",
    "version": 3
   },
   "file_extension": ".py",
   "mimetype": "text/x-python",
   "name": "python",
   "nbconvert_exporter": "python",
   "pygments_lexer": "ipython3",
   "version": "3.7.4"
  }
 },
 "nbformat": 4,
 "nbformat_minor": 2
}
